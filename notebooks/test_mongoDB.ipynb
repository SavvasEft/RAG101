{
 "cells": [
  {
   "cell_type": "code",
   "execution_count": 1,
   "metadata": {},
   "outputs": [
    {
     "name": "stdout",
     "output_type": "stream",
     "text": [
      "Found document: {'_id': ObjectId('6712bf52c74544be35a1f8dd'), 'name': 'John Doe', 'age': 30}\n"
     ]
    }
   ],
   "source": [
    "from pymongo import MongoClient\n",
    "\n",
    "# Connect to MongoDB\n",
    "client = MongoClient('mongodb://localhost:27017/')\n",
    "\n",
    "# Get a database\n",
    "db = client['test_database']\n",
    "\n",
    "# Get a collection\n",
    "collection = db['test_collection']\n",
    "\n",
    "# Insert a document\n",
    "result = collection.insert_one({'name': 'John Doe', 'age': 30})\n",
    "\n",
    "# Find the document\n",
    "document = collection.find_one({'name': 'John Doe'})\n",
    "print(f\"Found document: {document}\")"
   ]
  },
  {
   "cell_type": "code",
   "execution_count": null,
   "metadata": {},
   "outputs": [],
   "source": []
  }
 ],
 "metadata": {
  "kernelspec": {
   "display_name": "Python 3",
   "language": "python",
   "name": "python3"
  },
  "language_info": {
   "codemirror_mode": {
    "name": "ipython",
    "version": 3
   },
   "file_extension": ".py",
   "mimetype": "text/x-python",
   "name": "python",
   "nbconvert_exporter": "python",
   "pygments_lexer": "ipython3",
   "version": "3.9.6"
  }
 },
 "nbformat": 4,
 "nbformat_minor": 2
}
